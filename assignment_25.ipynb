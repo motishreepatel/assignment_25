{
 "cells": [
  {
   "cell_type": "code",
   "execution_count": 3,
   "metadata": {},
   "outputs": [
    {
     "name": "stdout",
     "output_type": "stream",
     "text": [
      "[1, 4, 9, 16, 25]\n",
      "<generator object <genexpr> at 0x10921aeb0>\n"
     ]
    }
   ],
   "source": [
    "#Q - 1) . What is the difference between enclosing a list comprehension in square brackets and parentheses?\n",
    "#Answer:\n",
    "'''The difference between enclosing a list comprehension in square brackets ([]) and parentheses (()) lies in the resulting object that is created.\n",
    "-list comprehension in [] brackets - When a list comprehension is enclosed in square brackets, it creates a new list object'''\n",
    "numbers = [1,2,3,4,5]\n",
    "squared = [i**2 for i in numbers]\n",
    "print(squared)\n",
    "\n",
    "#List Comprehension in () brackets - When a comprehension is enclosed in parentheses (), it creates a generator expression. Generator expressions are useful when dealing with large datasets or when memory efficiency is a concern.\n",
    "num = [1,2,3,4,5]\n",
    "num_sq= (i**2 for i in num)\n",
    "print(num_sq)"
   ]
  },
  {
   "cell_type": "code",
   "execution_count": null,
   "metadata": {},
   "outputs": [],
   "source": [
    "#Q - 2) What is the relationship between generators and iterators?\n",
    "#Answer:\n",
    "Generators and iterators are closely related concepts in Python, as generators are a type of iterator. \n",
    "Iterators - Iterators provide a way to iterate over a sequence of elements, fetching one element at a time. Examples of iterators in Python include lists, strings, dictionaries, and files. \n",
    "Generators - Generators are a specific type of iterator. They are defined using the def keyword, like regular functions. They use the yield keyword instead of return to produce a value."
   ]
  },
  {
   "cell_type": "code",
   "execution_count": null,
   "metadata": {},
   "outputs": [],
   "source": [
    "#Q - 3) What are the signs that a function is a generator function?\n",
    "#Answer:\n",
    "Here are few signs that indicate a function is a generator function:\n",
    "- Presence of the yield keyword\n",
    "- Return type of generator object"
   ]
  },
  {
   "cell_type": "code",
   "execution_count": null,
   "metadata": {},
   "outputs": [],
   "source": [
    "#Q - 4) What is the purpose of a yield statement?\n",
    "#Answer:\n",
    "The purpose of a yield statement in Python is to define a generator function. When a function contains a yield statement, it becomes a generator function."
   ]
  },
  {
   "cell_type": "code",
   "execution_count": null,
   "metadata": {},
   "outputs": [],
   "source": [
    "#Q - 5) What is the relationship between map calls and list comprehensions? Make a comparison and contrast between the two.\n",
    "#Answer:\n",
    "Both map calls and list comprehensions are used in Python for transforming and manipulating iterables, but they differ in their syntax and usage.\n",
    "\n",
    "Comparison:\n",
    "\n",
    "- Both map calls and list comprehensions can be used to transform an iterable by applying a function or expression to each element.\n",
    "- Map calls are more suitable when you have a pre-defined function to apply to the elements, especially when working with complex operations or external functions.\n",
    "- List comprehensions are more readable and intuitive for simple transformations and can include conditional statements for filtering elements or adding additional logic.\n",
    "\n",
    "Contrast:\n",
    "\n",
    "- Map calls return an iterator, while list comprehensions return a new list directly.\n",
    "- Map calls can operate on any iterable, whereas list comprehensions work specifically with lists or other iterable sequences.\n",
    "- List comprehensions allow for more flexibility by supporting conditional statements and multiple expressions, making it possible to filter and transform elements simultaneously.\n",
    "- Map calls may be more efficient for large datasets or when you need to process elements lazily, as they return an iterator that computes values on demand."
   ]
  }
 ],
 "metadata": {
  "kernelspec": {
   "display_name": "Python 3.9.6 64-bit",
   "language": "python",
   "name": "python3"
  },
  "language_info": {
   "codemirror_mode": {
    "name": "ipython",
    "version": 3
   },
   "file_extension": ".py",
   "mimetype": "text/x-python",
   "name": "python",
   "nbconvert_exporter": "python",
   "pygments_lexer": "ipython3",
   "version": "3.9.6"
  },
  "orig_nbformat": 4,
  "vscode": {
   "interpreter": {
    "hash": "31f2aee4e71d21fbe5cf8b01ff0e069b9275f58929596ceb00d14d90e3e16cd6"
   }
  }
 },
 "nbformat": 4,
 "nbformat_minor": 2
}
